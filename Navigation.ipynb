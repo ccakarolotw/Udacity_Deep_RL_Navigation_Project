{
 "cells": [
  {
   "cell_type": "markdown",
   "metadata": {},
   "source": [
    "# Navigation\n",
    "\n",
    "---\n",
    "\n",
    "You are welcome to use this coding environment to train your agent for the project.  Follow the instructions below to get started!\n",
    "\n",
    "### 1. Start the Environment\n",
    "\n",
    "Run the next code cell to install a few packages.  This line will take a few minutes to run!"
   ]
  },
  {
   "cell_type": "code",
   "execution_count": 1,
   "metadata": {},
   "outputs": [
    {
     "name": "stdout",
     "output_type": "stream",
     "text": [
      "\u001b[31mtensorflow 1.7.1 has requirement numpy>=1.13.3, but you'll have numpy 1.12.1 which is incompatible.\u001b[0m\r\n",
      "\u001b[31mipython 6.5.0 has requirement prompt-toolkit<2.0.0,>=1.0.15, but you'll have prompt-toolkit 3.0.16 which is incompatible.\u001b[0m\r\n"
     ]
    }
   ],
   "source": [
    "!pip -q install ./python"
   ]
  },
  {
   "cell_type": "markdown",
   "metadata": {},
   "source": [
    "The environment is already saved in the Workspace and can be accessed at the file path provided below.  Please run the next code cell without making any changes."
   ]
  },
  {
   "cell_type": "code",
   "execution_count": 2,
   "metadata": {},
   "outputs": [
    {
     "name": "stderr",
     "output_type": "stream",
     "text": [
      "INFO:unityagents:\n",
      "'Academy' started successfully!\n",
      "Unity Academy name: Academy\n",
      "        Number of Brains: 1\n",
      "        Number of External Brains : 1\n",
      "        Lesson number : 0\n",
      "        Reset Parameters :\n",
      "\t\t\n",
      "Unity brain name: BananaBrain\n",
      "        Number of Visual Observations (per agent): 0\n",
      "        Vector Observation space type: continuous\n",
      "        Vector Observation space size (per agent): 37\n",
      "        Number of stacked Vector Observation: 1\n",
      "        Vector Action space type: discrete\n",
      "        Vector Action space size (per agent): 4\n",
      "        Vector Action descriptions: , , , \n"
     ]
    }
   ],
   "source": [
    "from unityagents import UnityEnvironment\n",
    "import numpy as np\n",
    "\n",
    "# please do not modify the line below\n",
    "env = UnityEnvironment(file_name=\"/data/Banana_Linux_NoVis/Banana.x86_64\")"
   ]
  },
  {
   "cell_type": "markdown",
   "metadata": {},
   "source": [
    "Environments contain **_brains_** which are responsible for deciding the actions of their associated agents. Here we check for the first brain available, and set it as the default brain we will be controlling from Python."
   ]
  },
  {
   "cell_type": "code",
   "execution_count": 3,
   "metadata": {},
   "outputs": [],
   "source": [
    "# get the default brain\n",
    "brain_name = env.brain_names[0]\n",
    "brain = env.brains[brain_name]"
   ]
  },
  {
   "cell_type": "markdown",
   "metadata": {},
   "source": [
    "### 2. Examine the State and Action Spaces\n",
    "\n",
    "Run the code cell below to print some information about the environment."
   ]
  },
  {
   "cell_type": "code",
   "execution_count": 4,
   "metadata": {},
   "outputs": [
    {
     "name": "stdout",
     "output_type": "stream",
     "text": [
      "Number of agents: 1\n",
      "Number of actions: 4\n",
      "States look like: [ 1.          0.          0.          0.          0.84408134  0.          0.\n",
      "  1.          0.          0.0748472   0.          1.          0.          0.\n",
      "  0.25755     1.          0.          0.          0.          0.74177343\n",
      "  0.          1.          0.          0.          0.25854847  0.          0.\n",
      "  1.          0.          0.09355672  0.          1.          0.          0.\n",
      "  0.31969345  0.          0.        ]\n",
      "States have length: 37\n"
     ]
    }
   ],
   "source": [
    "# reset the environment\n",
    "env_info = env.reset(train_mode=True)[brain_name]\n",
    "\n",
    "# number of agents in the environment\n",
    "print('Number of agents:', len(env_info.agents))\n",
    "\n",
    "# number of actions\n",
    "action_size = brain.vector_action_space_size\n",
    "print('Number of actions:', action_size)\n",
    "\n",
    "# examine the state space \n",
    "state = env_info.vector_observations[0]\n",
    "print('States look like:', state)\n",
    "state_size = len(state)\n",
    "print('States have length:', state_size)"
   ]
  },
  {
   "cell_type": "markdown",
   "metadata": {},
   "source": [
    "### 3. Take Random Actions in the Environment\n",
    "\n",
    "In the next code cell, you will learn how to use the Python API to control the agent and receive feedback from the environment.\n",
    "\n",
    "Note that **in this coding environment, you will not be able to watch the agent while it is training**, and you should set `train_mode=True` to restart the environment."
   ]
  },
  {
   "cell_type": "code",
   "execution_count": 7,
   "metadata": {},
   "outputs": [
    {
     "name": "stdout",
     "output_type": "stream",
     "text": [
      "Score: 2.0\n"
     ]
    }
   ],
   "source": [
    "env_info = env.reset(train_mode=True)[brain_name] # reset the environment\n",
    "state = env_info.vector_observations[0]            # get the current state\n",
    "score = 0                                          # initialize the score\n",
    "while True:\n",
    "    action = np.random.randint(action_size)        # select an action\n",
    "    env_info = env.step(action)[brain_name]        # send the action to the environment\n",
    "    next_state = env_info.vector_observations[0]   # get the next state\n",
    "    reward = env_info.rewards[0]                   # get the reward\n",
    "    done = env_info.local_done[0]                  # see if episode has finished\n",
    "    score += reward                                # update the score\n",
    "    state = next_state                             # roll over the state to next time step\n",
    "    if done:                                       # exit loop if episode finished\n",
    "        break\n",
    "    \n",
    "print(\"Score: {}\".format(score))"
   ]
  },
  {
   "cell_type": "markdown",
   "metadata": {},
   "source": [
    "When finished, you can close the environment."
   ]
  },
  {
   "cell_type": "code",
   "execution_count": 8,
   "metadata": {},
   "outputs": [],
   "source": [
    "#env.close()"
   ]
  },
  {
   "cell_type": "markdown",
   "metadata": {},
   "source": [
    "### 4. It's Your Turn!\n",
    "\n",
    "Now it's your turn to train your own agent to solve the environment!  A few **important notes**:\n",
    "- When training the environment, set `train_mode=True`, so that the line for resetting the environment looks like the following:\n",
    "```python\n",
    "env_info = env.reset(train_mode=True)[brain_name]\n",
    "```\n",
    "- To structure your work, you're welcome to work directly in this Jupyter notebook, or you might like to start over with a new file!  You can see the list of files in the workspace by clicking on **_Jupyter_** in the top left corner of the notebook.\n",
    "- In this coding environment, you will not be able to watch the agent while it is training.  However, **_after training the agent_**, you can download the saved model weights to watch the agent on your own machine! "
   ]
  },
  {
   "cell_type": "code",
   "execution_count": 9,
   "metadata": {},
   "outputs": [],
   "source": [
    "import torch.nn as nn\n",
    "import torch.nn.functional as F\n",
    "import torch.optim as optim\n",
    "import numpy as np\n",
    "from collections import namedtuple, deque\n",
    "import random\n",
    "import torch\n",
    "from matplotlib import pyplot as plt\n",
    "from IPython.display import display, clear_output\n",
    "import time"
   ]
  },
  {
   "cell_type": "code",
   "execution_count": 25,
   "metadata": {},
   "outputs": [],
   "source": [
    "class Model(nn.Module):\n",
    "    \"\"\"Deep Q neural network based on fully connected layers\"\"\"\n",
    "    def __init__(self, state_size, action_size, hidden_size):\n",
    "        super(Model, self).__init__()\n",
    "        self.fc1 = nn.Linear(state_size,hidden_size)\n",
    "        self.fc2 = nn.Linear(hidden_size,hidden_size)\n",
    "        self.fc3 = nn.Linear(hidden_size,action_size)\n",
    "        self.action_size = action_size\n",
    "    def forward(self,x):\n",
    "        x = F.relu(self.fc1(x))\n",
    "        x = F.relu(self.fc2(x))\n",
    "        x = self.fc3(x)\n",
    "        return x\n",
    "    \n",
    "class Agent():\n",
    "    \"\"\"An agent to interact with and learn from the enroment\"\"\"\n",
    "    def __init__(self,state_size, action_size, hidden_size, eps_decay = 0.99, eps_min = 0.01, LR = 0.0005):\n",
    "        self.q_network = Model(state_size, action_size, hidden_size).to(device)\n",
    "        self.q_target_network = Model(state_size, action_size, hidden_size).to(device)\n",
    "        self.q_target_network.load_state_dict(self.q_network.state_dict())\n",
    "        self.q_target_network.eval()\n",
    "        self.eps = 1.\n",
    "        self.eps_decay = eps_decay\n",
    "        self.eps_min = eps_min\n",
    "        self.optimizer = optim.Adam(self.q_network.parameters(), lr=LR)\n",
    "        self.action_size = action_size\n",
    "        self.loss = 0\n",
    "    def act(self, state):\n",
    "        \"\"\"The agent act based on epsilon-greedy function\"\"\"\n",
    "        state = torch.from_numpy(state).float().unsqueeze(0).to(device)\n",
    "        self.eps*=self.eps_decay\n",
    "        self.eps = np.max([self.eps, self.eps_min])\n",
    "        if np.random.random()>self.eps:\n",
    "            self.q_network.eval()\n",
    "            with torch.no_grad():\n",
    "                action_values = self.q_network(state)\n",
    "                action = np.argmax(action_values.cpu().data.numpy())\n",
    "            self.q_network.train()\n",
    "        else:\n",
    "            action = np.random.choice(np.arange(self.action_size))\n",
    "        return action\n",
    "    def learn(self, experiences, gamma):\n",
    "        \"\"\"The agent learns the Q function based on Q-learning\"\"\"\n",
    "        states, actions, rewards, next_states, dones = experiences\n",
    "        Q = self.q_network(states).gather(1,actions)\n",
    "        Q_target_next = self.q_target_network(next_states).detach().max(1)[0].unsqueeze(1)\n",
    "        Q_target = rewards+gamma*(1-dones)*Q_target_next\n",
    "        loss = F.mse_loss(Q,Q_target)\n",
    "        self.optimizer.zero_grad()\n",
    "        loss.backward()\n",
    "        self.optimizer.step()\n",
    "        self.soft_update()\n",
    "        self.loss = loss.detach()\n",
    "    def soft_update(self, tau = 1E-3):\n",
    "        \"\"\"The target Q function is updated through soft-update\"\"\"\n",
    "        for params, target_params in zip(self.q_network.parameters(), self.q_target_network.parameters()):\n",
    "            target_params.data.copy_(tau*params.data+(1.0-tau)*target_params.data)\n",
    "\n",
    "class BufferReplay:\n",
    "    \"\"\"The expeirences of the agent is stored in BufferReplay\"\"\"\n",
    "    def __init__(self, buffer_size):\n",
    "        self.experience = namedtuple('Experience',['state','action','reward','next_state','done'])\n",
    "        self.memory =deque(maxlen = buffer_size)\n",
    "    def add(self,state,action,reward,next_state,done):\n",
    "        \"\"\"Experiences are added to the BufferReplay object\"\"\"\n",
    "        self.memory.append(self.experience(state,action,reward,next_state,done))\n",
    "    def sample(self, batch_size):\n",
    "        \"\"\"Experiences are sampled for learning\"\"\"\n",
    "        experiences = random.sample(self.memory, k = batch_size)\n",
    "        states = torch.from_numpy(np.vstack([e.state for e in experiences if e is not None])).float().to(device)\n",
    "        actions = torch.from_numpy(np.vstack([e.action for e in experiences if e is not None]).astype(np.uint8)).long().to(device)\n",
    "        rewards = torch.from_numpy(np.vstack([e.reward for e in experiences if e is not None])).float().to(device)\n",
    "        next_states = torch.from_numpy(np.vstack([e.next_state for e in experiences if e is not None])).float().to(device)\n",
    "        dones = torch.from_numpy(np.vstack([e.done for e in experiences if e is not None]).astype(np.uint8)).float().to(device)\n",
    "        return (states, actions, rewards, next_states, dones)\n",
    "    \n"
   ]
  },
  {
   "cell_type": "code",
   "execution_count": 26,
   "metadata": {},
   "outputs": [],
   "source": [
    "hidden_size = 64\n",
    "batch_size = 64\n",
    "gamma = 0.99\n",
    "device = torch.device('cuda:0' if torch.cuda.is_available() else 'cpu')\n",
    "buffer_replay = BufferReplay(1000000)\n",
    "agent = Agent(state_size, action_size, hidden_size)\n",
    "def train(num_epochs):\n",
    "    \"\"\"The agent plays episodes of games and stores the experience in the BufferReplay object. \n",
    "    The stored experiences are sampled for learning.\"\"\"\n",
    "    score_window = deque(maxlen=100)\n",
    "    scores = []\n",
    "    score_100_episodes = []\n",
    "    for i_episode in range(num_epochs):\n",
    "        rewards = 0\n",
    "        env_info = env.reset(train_mode=True)[brain_name]\n",
    "        while True:\n",
    "            state = env_info.vector_observations[0] \n",
    "            action = agent.act(state)        # select an action\n",
    "            env_info = env.step(action)[brain_name]        # send the action to the environment\n",
    "            next_state = env_info.vector_observations[0]   # get the next state\n",
    "            reward = env_info.rewards[0]                   # get the reward\n",
    "            rewards+=reward\n",
    "            done = env_info.local_done[0]                  # see if episode has finished\n",
    "            buffer_replay.add(state,action,reward,next_state,done)\n",
    "            state = next_state\n",
    "            if len(buffer_replay.memory) > batch_size:\n",
    "                agent.learn(buffer_replay.sample(batch_size), gamma)\n",
    "            if done:\n",
    "                break\n",
    "        score_window.append(rewards)\n",
    "        scores.append(rewards)\n",
    "        if i_episode >= 99:\n",
    "            score_100_episodes.append(np.mean(score_window))\n",
    "        if (i_episode+1)%10==0:\n",
    "            print('Episode:{} __ Score:{} __ 100 episodes mean score:{}'.format(i_episode+1, rewards, np.mean(score_window)))\n",
    "        if np.mean(score_window)>=13:\n",
    "            print('Solved in {} episodes'.format(i_episode+1))\n",
    "            torch.save(agent.q_network.state_dict(), 'checkpoint.pth')\n",
    "            break\n",
    "    return scores, score_100_episodes\n",
    "        "
   ]
  },
  {
   "cell_type": "code",
   "execution_count": 27,
   "metadata": {},
   "outputs": [
    {
     "name": "stdout",
     "output_type": "stream",
     "text": [
      "Episode:10 __ Score:2.0 __ 100 episodes mean score:0.7\n",
      "Episode:20 __ Score:0.0 __ 100 episodes mean score:0.55\n",
      "Episode:30 __ Score:0.0 __ 100 episodes mean score:0.4666666666666667\n",
      "Episode:40 __ Score:0.0 __ 100 episodes mean score:0.6\n",
      "Episode:50 __ Score:4.0 __ 100 episodes mean score:0.82\n",
      "Episode:60 __ Score:6.0 __ 100 episodes mean score:1.1\n",
      "Episode:70 __ Score:7.0 __ 100 episodes mean score:1.6\n",
      "Episode:80 __ Score:2.0 __ 100 episodes mean score:1.8\n",
      "Episode:90 __ Score:9.0 __ 100 episodes mean score:2.066666666666667\n",
      "Episode:100 __ Score:10.0 __ 100 episodes mean score:2.64\n",
      "Episode:110 __ Score:6.0 __ 100 episodes mean score:3.08\n",
      "Episode:120 __ Score:10.0 __ 100 episodes mean score:3.83\n",
      "Episode:130 __ Score:6.0 __ 100 episodes mean score:4.72\n",
      "Episode:140 __ Score:8.0 __ 100 episodes mean score:5.52\n",
      "Episode:150 __ Score:7.0 __ 100 episodes mean score:6.36\n",
      "Episode:160 __ Score:6.0 __ 100 episodes mean score:7.04\n",
      "Episode:170 __ Score:16.0 __ 100 episodes mean score:7.72\n",
      "Episode:180 __ Score:12.0 __ 100 episodes mean score:8.79\n",
      "Episode:190 __ Score:9.0 __ 100 episodes mean score:9.54\n",
      "Episode:200 __ Score:11.0 __ 100 episodes mean score:9.9\n",
      "Episode:210 __ Score:5.0 __ 100 episodes mean score:10.58\n",
      "Episode:220 __ Score:12.0 __ 100 episodes mean score:10.97\n",
      "Episode:230 __ Score:3.0 __ 100 episodes mean score:11.23\n",
      "Episode:240 __ Score:21.0 __ 100 episodes mean score:11.76\n",
      "Episode:250 __ Score:13.0 __ 100 episodes mean score:11.94\n",
      "Episode:260 __ Score:3.0 __ 100 episodes mean score:12.21\n",
      "Episode:270 __ Score:11.0 __ 100 episodes mean score:12.33\n",
      "Episode:280 __ Score:6.0 __ 100 episodes mean score:12.09\n",
      "Episode:290 __ Score:12.0 __ 100 episodes mean score:12.04\n",
      "Episode:300 __ Score:12.0 __ 100 episodes mean score:12.12\n",
      "Episode:310 __ Score:13.0 __ 100 episodes mean score:12.11\n",
      "Episode:320 __ Score:13.0 __ 100 episodes mean score:12.17\n",
      "Episode:330 __ Score:13.0 __ 100 episodes mean score:12.23\n",
      "Episode:340 __ Score:19.0 __ 100 episodes mean score:12.06\n",
      "Episode:350 __ Score:14.0 __ 100 episodes mean score:12.09\n",
      "Episode:360 __ Score:13.0 __ 100 episodes mean score:12.21\n",
      "Episode:370 __ Score:7.0 __ 100 episodes mean score:12.17\n",
      "Episode:380 __ Score:8.0 __ 100 episodes mean score:12.19\n",
      "Episode:390 __ Score:6.0 __ 100 episodes mean score:12.36\n",
      "Episode:400 __ Score:15.0 __ 100 episodes mean score:12.44\n",
      "Episode:410 __ Score:12.0 __ 100 episodes mean score:12.58\n",
      "Episode:420 __ Score:10.0 __ 100 episodes mean score:12.62\n",
      "Episode:430 __ Score:19.0 __ 100 episodes mean score:12.82\n",
      "Episode:440 __ Score:14.0 __ 100 episodes mean score:12.7\n",
      "Episode:450 __ Score:16.0 __ 100 episodes mean score:12.97\n",
      "Solved in 453 episodes\n"
     ]
    }
   ],
   "source": [
    "scores, score_mean = train(1000)    "
   ]
  },
  {
   "cell_type": "code",
   "execution_count": 24,
   "metadata": {},
   "outputs": [
    {
     "data": {
      "image/png": "[encoded data removed]",
      "text/plain": [
       "<matplotlib.figure.Figure at 0x7f7806c128d0>"
      ]
     },
     "metadata": {},
     "output_type": "display_data"
    }
   ],
   "source": [
    "fig, ax = plt.subplots()\n",
    "ax.plot(np.arange(1,len(scores)+1),scores, label='score')\n",
    "ax.plot(np.arange(100,100+len(score_mean)),score_mean, label = 'mean score (100 episodes)')\n",
    "ax.set_xlabel('Episodes')\n",
    "ax.set_ylabel('Score')\n",
    "fig.patch.set_facecolor('white')"
   ]
  },
  {
   "cell_type": "code",
   "execution_count": null,
   "metadata": {},
   "outputs": [],
   "source": []
  }
 ],
 "metadata": {
  "kernelspec": {
   "display_name": "Python 3",
   "language": "python",
   "name": "python3"
  },
  "language_info": {
   "codemirror_mode": {
    "name": "ipython",
    "version": 3
   },
   "file_extension": ".py",
   "mimetype": "text/x-python",
   "name": "python",
   "nbconvert_exporter": "python",
   "pygments_lexer": "ipython3",
   "version": "3.6.3"
  }
 },
 "nbformat": 4,
 "nbformat_minor": 2
}
